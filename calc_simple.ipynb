{
 "cells": [
  {
   "cell_type": "code",
   "execution_count": 11,
   "id": "d03b6522-ced1-452a-b5c4-c0fb552395fc",
   "metadata": {},
   "outputs": [],
   "source": [
    "# -*- coding: utf-8 -*-\n",
    "import sys"
   ]
  },
  {
   "cell_type": "markdown",
   "id": "90211489-4b60-4d1b-9240-4c901e8a8b22",
   "metadata": {},
   "source": [
    "Функции выводят информацию о системе и об авторе"
   ]
  },
  {
   "cell_type": "code",
   "execution_count": 12,
   "id": "83c050ad-b508-49fb-8d01-265fbc9546cf",
   "metadata": {},
   "outputs": [],
   "source": [
    "def About():\n",
    "    print(\n",
    "    \"\"\"\n",
    "    Привет!\n",
    "    _______________________________\n",
    "    author: Anna Starmark\n",
    "            class  8\n",
    "            school 242\n",
    "    e-mail: nn.starmark@gmail.com\n",
    "    github: github.com/AnnaStarmark\n",
    "    date:   09-02-2024    15:18:00\n",
    "    _______________________________\n",
    "    \"\"\"\n",
    "    )\n"
   ]
  },
  {
   "cell_type": "code",
   "execution_count": 13,
   "id": "d4132c46-0192-4ff9-a336-862ac90ea5f0",
   "metadata": {},
   "outputs": [],
   "source": [
    "def techinfo():\n",
    "    print(\"__________________________\")\n",
    "    print(\"Сведения о платформе:\")\n",
    "    print(sys.version_info)\n",
    "    print(sys.version)\n",
    "    print(\"__________________________\\n\")"
   ]
  },
  {
   "cell_type": "markdown",
   "id": "0b66e644-3432-4c00-b106-c5f9ae72030e",
   "metadata": {},
   "source": [
    "Функция для ознакомления с содержанием программы"
   ]
  },
  {
   "cell_type": "code",
   "execution_count": 14,
   "id": "be1e229f-5131-41a2-9390-8330bbb51dd4",
   "metadata": {},
   "outputs": [],
   "source": [
    "def Selfdoc():\n",
    "    print(\n",
    "    ''' \n",
    "    ==========================================================           \n",
    "        Арифметический калькулятор  calc\n",
    "           \n",
    "        В цикле надо вводить 2 числа и выбирать действие:\n",
    "            +   для сложения этих чисел\n",
    "            -   для вычисление разности\n",
    "            *   для перемножени\n",
    "            /   для деления 1-го на 2-е                         \n",
    "        После выполнения действия печать результата\n",
    "                \n",
    "        При вводе чисел проверяется правильность чисел\n",
    "            (строка должна содержать только цифры)\n",
    "        Проверяется делитель при выборе деления ( != 0 )\n",
    "\n",
    "        Вывод на дисплей в формате:\n",
    "        <число> <арифметический знак> <число> = <результат> \n",
    "\n",
    "        В программе задействованы следующие функции:\n",
    "        def About():            Об авторе\n",
    "        def Selfdoc():          самодокументирования \n",
    "        def inputFloat(prompt): Ввод вещественного числа с проверкой\n",
    "        def Fn_Calc(A, op, B):  Функ вычисления по аргументам A,B\n",
    "                                где op из списка ['+','-','*','/']\n",
    "        def Work():             Функция где весь цикл работы\n",
    "        def main():             Основная функция программы\n",
    "    ========================================================== \n",
    "        Пример простого диалога оператор-компьютер\n",
    "    ========================================================== \n",
    "    '''\n",
    "    )"
   ]
  },
  {
   "cell_type": "markdown",
   "id": "05a7a8fd-b2ed-40f6-9966-5c83221c89a8",
   "metadata": {},
   "source": [
    "Собственно, функция выбора действия и вычисления"
   ]
  },
  {
   "cell_type": "code",
   "execution_count": 15,
   "id": "bfed6735-c6a3-41b1-a318-b8b068a8ab41",
   "metadata": {},
   "outputs": [],
   "source": [
    "def Fn_calc(vr1, oper, vr2):\n",
    "    res = \"\"\n",
    "\n",
    "    if(oper == '+'):\n",
    "        res = str(float(vr1)+float(vr2))\n",
    "    elif(oper == '-'):\n",
    "        res = str(float(vr1)-float(vr2))\n",
    "    elif(oper == '*'):\n",
    "        res = str(float(vr1)*float(vr2))\n",
    "    elif(oper == '/'):\n",
    "        if(float(vr2) != 0):\n",
    "            res = str(float(vr1)/float(vr2))\n",
    "        else:\n",
    "            res = \"Деление на 0 не допустимо!\"\n",
    "    else:\n",
    "        res = \"Не верный символ оператора\"\n",
    "\n",
    "    return res"
   ]
  },
  {
   "cell_type": "markdown",
   "id": "e1c77266-fb74-444d-ae79-158b809c7b66",
   "metadata": {},
   "source": [
    "Функция ввода числа с проверкой правильности\n",
    "    В случае присутствия в числе не цифры - просит\n",
    "    повторить ввод без ошибок"
   ]
  },
  {
   "cell_type": "code",
   "execution_count": 16,
   "id": "bcede1a1-4139-4f8b-9f97-afaf67c028bf",
   "metadata": {},
   "outputs": [],
   "source": [
    "def inputFloat(prompt=None):\n",
    "    while True:\n",
    "        s = input(prompt)\n",
    "        try:\n",
    "            return float(s)\n",
    "        except ValueError:\n",
    "            print('Ошибка! Ожидалось вещественное число.')"
   ]
  },
  {
   "cell_type": "markdown",
   "id": "c3f84921-a247-472c-8abc-f0336b69fb8e",
   "metadata": {},
   "source": [
    "Функция основного диалога с программой"
   ]
  },
  {
   "cell_type": "code",
   "execution_count": 17,
   "id": "7542ed46-0904-46c1-ac69-5e6c128b1baf",
   "metadata": {},
   "outputs": [],
   "source": [
    "def Work():\n",
    "    while(True):\n",
    "        print(\"Начинаем работать с калькулятором...\")\n",
    "        ok = input(\"Введите знак ? для выхода или ! для работы\")\n",
    "        if (ok == '?'): break\n",
    "\n",
    "        var1 = inputFloat(\"Введите первое число: \")\n",
    "        var2 = inputFloat(\"Введите второе число: \")\n",
    "        op = input(\"Введите знак операции из списка [+, -, *, /]: \")\n",
    "\n",
    "        print(var1, op, var2, \"=\", Fn_calc(var1, op, var2))"
   ]
  },
  {
   "cell_type": "markdown",
   "id": "114dcc12-28f7-4c18-91d5-b49cf8f653c8",
   "metadata": {},
   "source": [
    "# -----------------------------------------------------------------------------------------------"
   ]
  },
  {
   "cell_type": "code",
   "execution_count": 18,
   "id": "3cdbf78b-8eea-4d66-a48e-664201e0cf6f",
   "metadata": {},
   "outputs": [],
   "source": [
    "def main():\n",
    "    techinfo()\n",
    "    About()\n",
    "    Selfdoc()\n",
    "    Work()\n",
    "    print(\"End program\\n\")"
   ]
  },
  {
   "cell_type": "code",
   "execution_count": null,
   "id": "ffe7ec02-2eb5-449c-a830-97bb26d03f6a",
   "metadata": {
    "scrolled": true
   },
   "outputs": [
    {
     "name": "stdout",
     "output_type": "stream",
     "text": [
      "__________________________\n",
      "Сведения о платформе:\n",
      "sys.version_info(major=3, minor=12, micro=4, releaselevel='final', serial=0)\n",
      "3.12.4 | packaged by Anaconda, Inc. | (main, Jun 18 2024, 15:12:24) [GCC 11.2.0]\n",
      "__________________________\n",
      "\n",
      "\n",
      "    Привет!\n",
      "    _______________________________\n",
      "    author: Anna Starmark\n",
      "            class  8\n",
      "            school 242\n",
      "    e-mail: nn.starmark@gmail.com\n",
      "    github: github.com/AnnaStarmark\n",
      "    date:   09-02-2024    15:18:00\n",
      "    _______________________________\n",
      "    \n",
      " \n",
      "    ==========================================================           \n",
      "        Арифметический калькулятор  calc\n",
      "           \n",
      "        В цикле надо вводить 2 числа и выбирать действие:\n",
      "            +   для сложения этих чисел\n",
      "            -   для вычисление разности\n",
      "            *   для перемножени\n",
      "            /   для деления 1-го на 2-е                         \n",
      "        После выполнения действия печать результата\n",
      "                \n",
      "        При вводе чисел проверяется правильность чисел\n",
      "            (строка должна содержать только цифры)\n",
      "        Проверяется делитель при выборе деления ( != 0 )\n",
      "\n",
      "        Вывод на дисплей в формате:\n",
      "        <число> <арифметический знак> <число> = <результат> \n",
      "\n",
      "        В программе задействованы следующие функции:\n",
      "        def About():            Об авторе\n",
      "        def Selfdoc():          самодокументирования \n",
      "        def inputFloat(prompt): Ввод вещественного числа с проверкой\n",
      "        def Fn_Calc(A, op, B):  Функ вычисления по аргументам A,B\n",
      "                                где op из списка ['+','-','*','/']\n",
      "        def Work():             Функция где весь цикл работы\n",
      "        def main():             Основная функция программы\n",
      "    ========================================================== \n",
      "        Пример простого диалога оператор-компьютер\n",
      "    ========================================================== \n",
      "    \n",
      "Начинаем работать с калькулятором...\n"
     ]
    }
   ],
   "source": [
    "if __name__ == \"__main__\":\n",
    "    main()"
   ]
  },
  {
   "cell_type": "code",
   "execution_count": null,
   "id": "7104185b-9e75-4d10-8234-fb66f53a1a76",
   "metadata": {},
   "outputs": [],
   "source": [
    "\n",
    "\n"
   ]
  }
 ],
 "metadata": {
  "kernelspec": {
   "display_name": "Python 3 (ipykernel)",
   "language": "python",
   "name": "python3"
  },
  "language_info": {
   "codemirror_mode": {
    "name": "ipython",
    "version": 3
   },
   "file_extension": ".py",
   "mimetype": "text/x-python",
   "name": "python",
   "nbconvert_exporter": "python",
   "pygments_lexer": "ipython3",
   "version": "3.12.4"
  }
 },
 "nbformat": 4,
 "nbformat_minor": 5
}
